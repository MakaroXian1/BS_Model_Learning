{
 "cells": [
  {
   "metadata": {
    "collapsed": true
   },
   "cell_type": "markdown",
   "source": [
    "Compute\n",
    "$$\n",
    "\\int_0^\\pi \\sin(x)\\,dx\n",
    "$$\n",
    "using Monte Carlo simultation with $$ N= 10^i, i =1,2,...,6$$"
   ],
   "id": "c8cb19964da184ca"
  },
  {
   "metadata": {
    "ExecuteTime": {
     "end_time": "2025-08-24T18:32:39.432595Z",
     "start_time": "2025-08-24T18:32:39.428734Z"
    }
   },
   "cell_type": "code",
   "source": [
    "import numpy as np\n",
    "import matplotlib as mpl\n",
    "import matplotlib.pyplot as plt\n",
    "import sys\n",
    "\n",
    "from ntsecuritycon import SE_INC_BASE_PRIORITY_NAME\n",
    "from scipy import integrate\n",
    "from scipy.stats import norm"
   ],
   "id": "e91702a533b65fe4",
   "outputs": [],
   "execution_count": 1
  },
  {
   "metadata": {},
   "cell_type": "code",
   "outputs": [],
   "execution_count": null,
   "source": [
    "def f(x): #define function\n",
    "    return np.sin(x)\n",
    "\n",
    "result,error = integrate.quad(f, 0, np.pi)\n",
    "\n",
    "a,b = 0,np.pi\n",
    "\n",
    "for i in range(1,7):\n",
    "\n",
    "     N = 10**i\n",
    "\n",
    "     sample = np.random.uniform(a,b,N)\n",
    "\n",
    "     estimate = (b-a)*np.mean(f(sample))\n",
    "     estimate_error = abs(estimate - result)\n",
    "\n",
    "     print(\"N =\",10**i,(6-i)*\" \", \"Estimated integral =\",f\"{estimate:.5f}\",\"Error =\",f\"{estimate_error:.5f}\")"
   ],
   "id": "82634f68ac0e7cae"
  }
 ],
 "metadata": {
  "kernelspec": {
   "display_name": "Python 3",
   "language": "python",
   "name": "python3"
  },
  "language_info": {
   "codemirror_mode": {
    "name": "ipython",
    "version": 2
   },
   "file_extension": ".py",
   "mimetype": "text/x-python",
   "name": "python",
   "nbconvert_exporter": "python",
   "pygments_lexer": "ipython2",
   "version": "2.7.6"
  }
 },
 "nbformat": 4,
 "nbformat_minor": 5
}
